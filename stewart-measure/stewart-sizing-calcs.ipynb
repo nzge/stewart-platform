{
 "cells": [
  {
   "cell_type": "code",
   "execution_count": null,
   "metadata": {},
   "outputs": [
    {
     "name": "stdout",
     "output_type": "stream",
     "text": [
      "220\n",
      "150\n",
      "94.24777960769379\n"
     ]
    }
   ],
   "source": [
    "import math\n",
    "\n",
    "#mm\n",
    "\n",
    "#Project Specs\n",
    "θ_max = 20\n",
    "Z_stroke = 50\n",
    "\n",
    "#MG996R Servo\n",
    "servo_width = 20 \n",
    "Servo_Horn_Length = 30 #length to allow optimal platform tilt and to avoid servo colliding with the ground\n",
    "Δa = 180\n",
    "Δs= Servo_Horn_Length * (Δa * (math.pi/180))\n",
    "\n",
    "#Link Dimensions\n",
    "Link_Length = 100\n",
    "Num_Links = 6\n",
    "\n",
    "#Platform Dimensions\n",
    "Side_Base = 220\n",
    "Side_Top = 150\n",
    "Base_to_top_Ratio = Side_Base/Side_Top \n",
    "\n",
    "print(Side_Base)\n",
    "print(Side_Top) \n",
    "print(Δs)\n"
   ]
  }
 ],
 "metadata": {
  "kernelspec": {
   "display_name": "Python 3",
   "language": "python",
   "name": "python3"
  },
  "language_info": {
   "codemirror_mode": {
    "name": "ipython",
    "version": 3
   },
   "file_extension": ".py",
   "mimetype": "text/x-python",
   "name": "python",
   "nbconvert_exporter": "python",
   "pygments_lexer": "ipython3",
   "version": "3.13.2"
  }
 },
 "nbformat": 4,
 "nbformat_minor": 2
}
